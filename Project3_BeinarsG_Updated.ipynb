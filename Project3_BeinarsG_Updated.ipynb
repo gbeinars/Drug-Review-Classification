{
 "cells": [
  {
   "cell_type": "markdown",
   "id": "monthly-generic",
   "metadata": {},
   "source": [
    "#### Import Libraries & Load Data"
   ]
  },
  {
   "cell_type": "code",
   "execution_count": 262,
   "id": "inappropriate-fortune",
   "metadata": {},
   "outputs": [],
   "source": [
    "import pandas as pd\n",
    "import seaborn as sns\n",
    "import matplotlib.pyplot as plt\n",
    "from datetime import date\n",
    "from nltk.corpus import stopwords\n",
    "import squarify\n",
    "\n",
    "#from pycaret.regression import *\n",
    "from sklearn.feature_extraction.text import CountVectorizer\n",
    "from sklearn.model_selection import train_test_split # Split data into train and test set\n",
    "from sklearn.linear_model import LogisticRegression\n",
    "from sklearn.metrics import confusion_matrix, classification_report\n",
    "from sklearn.metrics import accuracy_score # accuracy metric\n",
    "from sklearn.naive_bayes import MultinomialNB, BernoulliNB"
   ]
  },
  {
   "cell_type": "code",
   "execution_count": 263,
   "id": "round-chemistry",
   "metadata": {},
   "outputs": [],
   "source": [
    "drugs_test = pd.read_csv('drugsComTest_raw.tsv', sep='\\t')\n",
    "drugs_train = pd.read_csv('drugsComTrain_raw.tsv', sep='\\t')"
   ]
  },
  {
   "cell_type": "code",
   "execution_count": 264,
   "id": "indian-copyright",
   "metadata": {},
   "outputs": [
    {
     "data": {
      "text/html": [
       "<div>\n",
       "<style scoped>\n",
       "    .dataframe tbody tr th:only-of-type {\n",
       "        vertical-align: middle;\n",
       "    }\n",
       "\n",
       "    .dataframe tbody tr th {\n",
       "        vertical-align: top;\n",
       "    }\n",
       "\n",
       "    .dataframe thead th {\n",
       "        text-align: right;\n",
       "    }\n",
       "</style>\n",
       "<table border=\"1\" class=\"dataframe\">\n",
       "  <thead>\n",
       "    <tr style=\"text-align: right;\">\n",
       "      <th></th>\n",
       "      <th>Unnamed: 0</th>\n",
       "      <th>drugName</th>\n",
       "      <th>condition</th>\n",
       "      <th>review</th>\n",
       "      <th>rating</th>\n",
       "      <th>date</th>\n",
       "      <th>usefulCount</th>\n",
       "    </tr>\n",
       "  </thead>\n",
       "  <tbody>\n",
       "    <tr>\n",
       "      <th>0</th>\n",
       "      <td>163740</td>\n",
       "      <td>Mirtazapine</td>\n",
       "      <td>Depression</td>\n",
       "      <td>\"I&amp;#039;ve tried a few antidepressants over th...</td>\n",
       "      <td>10.0</td>\n",
       "      <td>February 28, 2012</td>\n",
       "      <td>22</td>\n",
       "    </tr>\n",
       "    <tr>\n",
       "      <th>1</th>\n",
       "      <td>206473</td>\n",
       "      <td>Mesalamine</td>\n",
       "      <td>Crohn's Disease, Maintenance</td>\n",
       "      <td>\"My son has Crohn&amp;#039;s disease and has done ...</td>\n",
       "      <td>8.0</td>\n",
       "      <td>May 17, 2009</td>\n",
       "      <td>17</td>\n",
       "    </tr>\n",
       "    <tr>\n",
       "      <th>2</th>\n",
       "      <td>159672</td>\n",
       "      <td>Bactrim</td>\n",
       "      <td>Urinary Tract Infection</td>\n",
       "      <td>\"Quick reduction of symptoms\"</td>\n",
       "      <td>9.0</td>\n",
       "      <td>September 29, 2017</td>\n",
       "      <td>3</td>\n",
       "    </tr>\n",
       "    <tr>\n",
       "      <th>3</th>\n",
       "      <td>39293</td>\n",
       "      <td>Contrave</td>\n",
       "      <td>Weight Loss</td>\n",
       "      <td>\"Contrave combines drugs that were used for al...</td>\n",
       "      <td>9.0</td>\n",
       "      <td>March 5, 2017</td>\n",
       "      <td>35</td>\n",
       "    </tr>\n",
       "    <tr>\n",
       "      <th>4</th>\n",
       "      <td>97768</td>\n",
       "      <td>Cyclafem 1 / 35</td>\n",
       "      <td>Birth Control</td>\n",
       "      <td>\"I have been on this birth control for one cyc...</td>\n",
       "      <td>9.0</td>\n",
       "      <td>October 22, 2015</td>\n",
       "      <td>4</td>\n",
       "    </tr>\n",
       "  </tbody>\n",
       "</table>\n",
       "</div>"
      ],
      "text/plain": [
       "   Unnamed: 0         drugName                     condition  \\\n",
       "0      163740      Mirtazapine                    Depression   \n",
       "1      206473       Mesalamine  Crohn's Disease, Maintenance   \n",
       "2      159672          Bactrim       Urinary Tract Infection   \n",
       "3       39293         Contrave                   Weight Loss   \n",
       "4       97768  Cyclafem 1 / 35                 Birth Control   \n",
       "\n",
       "                                              review  rating  \\\n",
       "0  \"I&#039;ve tried a few antidepressants over th...    10.0   \n",
       "1  \"My son has Crohn&#039;s disease and has done ...     8.0   \n",
       "2                      \"Quick reduction of symptoms\"     9.0   \n",
       "3  \"Contrave combines drugs that were used for al...     9.0   \n",
       "4  \"I have been on this birth control for one cyc...     9.0   \n",
       "\n",
       "                 date  usefulCount  \n",
       "0   February 28, 2012           22  \n",
       "1        May 17, 2009           17  \n",
       "2  September 29, 2017            3  \n",
       "3       March 5, 2017           35  \n",
       "4    October 22, 2015            4  "
      ]
     },
     "execution_count": 264,
     "metadata": {},
     "output_type": "execute_result"
    }
   ],
   "source": [
    "drugs_test.head()"
   ]
  },
  {
   "cell_type": "code",
   "execution_count": 265,
   "id": "decent-hungarian",
   "metadata": {},
   "outputs": [
    {
     "data": {
      "text/html": [
       "<div>\n",
       "<style scoped>\n",
       "    .dataframe tbody tr th:only-of-type {\n",
       "        vertical-align: middle;\n",
       "    }\n",
       "\n",
       "    .dataframe tbody tr th {\n",
       "        vertical-align: top;\n",
       "    }\n",
       "\n",
       "    .dataframe thead th {\n",
       "        text-align: right;\n",
       "    }\n",
       "</style>\n",
       "<table border=\"1\" class=\"dataframe\">\n",
       "  <thead>\n",
       "    <tr style=\"text-align: right;\">\n",
       "      <th></th>\n",
       "      <th>Unnamed: 0</th>\n",
       "      <th>drugName</th>\n",
       "      <th>condition</th>\n",
       "      <th>review</th>\n",
       "      <th>rating</th>\n",
       "      <th>date</th>\n",
       "      <th>usefulCount</th>\n",
       "    </tr>\n",
       "  </thead>\n",
       "  <tbody>\n",
       "    <tr>\n",
       "      <th>0</th>\n",
       "      <td>206461</td>\n",
       "      <td>Valsartan</td>\n",
       "      <td>Left Ventricular Dysfunction</td>\n",
       "      <td>\"It has no side effect, I take it in combinati...</td>\n",
       "      <td>9.0</td>\n",
       "      <td>May 20, 2012</td>\n",
       "      <td>27</td>\n",
       "    </tr>\n",
       "    <tr>\n",
       "      <th>1</th>\n",
       "      <td>95260</td>\n",
       "      <td>Guanfacine</td>\n",
       "      <td>ADHD</td>\n",
       "      <td>\"My son is halfway through his fourth week of ...</td>\n",
       "      <td>8.0</td>\n",
       "      <td>April 27, 2010</td>\n",
       "      <td>192</td>\n",
       "    </tr>\n",
       "    <tr>\n",
       "      <th>2</th>\n",
       "      <td>92703</td>\n",
       "      <td>Lybrel</td>\n",
       "      <td>Birth Control</td>\n",
       "      <td>\"I used to take another oral contraceptive, wh...</td>\n",
       "      <td>5.0</td>\n",
       "      <td>December 14, 2009</td>\n",
       "      <td>17</td>\n",
       "    </tr>\n",
       "    <tr>\n",
       "      <th>3</th>\n",
       "      <td>138000</td>\n",
       "      <td>Ortho Evra</td>\n",
       "      <td>Birth Control</td>\n",
       "      <td>\"This is my first time using any form of birth...</td>\n",
       "      <td>8.0</td>\n",
       "      <td>November 3, 2015</td>\n",
       "      <td>10</td>\n",
       "    </tr>\n",
       "    <tr>\n",
       "      <th>4</th>\n",
       "      <td>35696</td>\n",
       "      <td>Buprenorphine / naloxone</td>\n",
       "      <td>Opiate Dependence</td>\n",
       "      <td>\"Suboxone has completely turned my life around...</td>\n",
       "      <td>9.0</td>\n",
       "      <td>November 27, 2016</td>\n",
       "      <td>37</td>\n",
       "    </tr>\n",
       "  </tbody>\n",
       "</table>\n",
       "</div>"
      ],
      "text/plain": [
       "   Unnamed: 0                  drugName                     condition  \\\n",
       "0      206461                 Valsartan  Left Ventricular Dysfunction   \n",
       "1       95260                Guanfacine                          ADHD   \n",
       "2       92703                    Lybrel                 Birth Control   \n",
       "3      138000                Ortho Evra                 Birth Control   \n",
       "4       35696  Buprenorphine / naloxone             Opiate Dependence   \n",
       "\n",
       "                                              review  rating  \\\n",
       "0  \"It has no side effect, I take it in combinati...     9.0   \n",
       "1  \"My son is halfway through his fourth week of ...     8.0   \n",
       "2  \"I used to take another oral contraceptive, wh...     5.0   \n",
       "3  \"This is my first time using any form of birth...     8.0   \n",
       "4  \"Suboxone has completely turned my life around...     9.0   \n",
       "\n",
       "                date  usefulCount  \n",
       "0       May 20, 2012           27  \n",
       "1     April 27, 2010          192  \n",
       "2  December 14, 2009           17  \n",
       "3   November 3, 2015           10  \n",
       "4  November 27, 2016           37  "
      ]
     },
     "execution_count": 265,
     "metadata": {},
     "output_type": "execute_result"
    }
   ],
   "source": [
    "drugs_train.head()"
   ]
  },
  {
   "cell_type": "code",
   "execution_count": 266,
   "id": "realistic-summit",
   "metadata": {},
   "outputs": [],
   "source": [
    "# Combine train and test sets\n",
    "\n",
    "vertical_concat = pd.concat([drugs_test, drugs_train], axis = 0)"
   ]
  },
  {
   "cell_type": "code",
   "execution_count": 267,
   "id": "hungry-taiwan",
   "metadata": {},
   "outputs": [
    {
     "data": {
      "text/html": [
       "<div>\n",
       "<style scoped>\n",
       "    .dataframe tbody tr th:only-of-type {\n",
       "        vertical-align: middle;\n",
       "    }\n",
       "\n",
       "    .dataframe tbody tr th {\n",
       "        vertical-align: top;\n",
       "    }\n",
       "\n",
       "    .dataframe thead th {\n",
       "        text-align: right;\n",
       "    }\n",
       "</style>\n",
       "<table border=\"1\" class=\"dataframe\">\n",
       "  <thead>\n",
       "    <tr style=\"text-align: right;\">\n",
       "      <th></th>\n",
       "      <th>Unnamed: 0</th>\n",
       "      <th>drugName</th>\n",
       "      <th>condition</th>\n",
       "      <th>review</th>\n",
       "      <th>rating</th>\n",
       "      <th>date</th>\n",
       "      <th>usefulCount</th>\n",
       "    </tr>\n",
       "  </thead>\n",
       "  <tbody>\n",
       "    <tr>\n",
       "      <th>0</th>\n",
       "      <td>163740</td>\n",
       "      <td>Mirtazapine</td>\n",
       "      <td>Depression</td>\n",
       "      <td>\"I&amp;#039;ve tried a few antidepressants over th...</td>\n",
       "      <td>10.0</td>\n",
       "      <td>February 28, 2012</td>\n",
       "      <td>22</td>\n",
       "    </tr>\n",
       "    <tr>\n",
       "      <th>1</th>\n",
       "      <td>206473</td>\n",
       "      <td>Mesalamine</td>\n",
       "      <td>Crohn's Disease, Maintenance</td>\n",
       "      <td>\"My son has Crohn&amp;#039;s disease and has done ...</td>\n",
       "      <td>8.0</td>\n",
       "      <td>May 17, 2009</td>\n",
       "      <td>17</td>\n",
       "    </tr>\n",
       "    <tr>\n",
       "      <th>2</th>\n",
       "      <td>159672</td>\n",
       "      <td>Bactrim</td>\n",
       "      <td>Urinary Tract Infection</td>\n",
       "      <td>\"Quick reduction of symptoms\"</td>\n",
       "      <td>9.0</td>\n",
       "      <td>September 29, 2017</td>\n",
       "      <td>3</td>\n",
       "    </tr>\n",
       "    <tr>\n",
       "      <th>3</th>\n",
       "      <td>39293</td>\n",
       "      <td>Contrave</td>\n",
       "      <td>Weight Loss</td>\n",
       "      <td>\"Contrave combines drugs that were used for al...</td>\n",
       "      <td>9.0</td>\n",
       "      <td>March 5, 2017</td>\n",
       "      <td>35</td>\n",
       "    </tr>\n",
       "    <tr>\n",
       "      <th>4</th>\n",
       "      <td>97768</td>\n",
       "      <td>Cyclafem 1 / 35</td>\n",
       "      <td>Birth Control</td>\n",
       "      <td>\"I have been on this birth control for one cyc...</td>\n",
       "      <td>9.0</td>\n",
       "      <td>October 22, 2015</td>\n",
       "      <td>4</td>\n",
       "    </tr>\n",
       "  </tbody>\n",
       "</table>\n",
       "</div>"
      ],
      "text/plain": [
       "   Unnamed: 0         drugName                     condition  \\\n",
       "0      163740      Mirtazapine                    Depression   \n",
       "1      206473       Mesalamine  Crohn's Disease, Maintenance   \n",
       "2      159672          Bactrim       Urinary Tract Infection   \n",
       "3       39293         Contrave                   Weight Loss   \n",
       "4       97768  Cyclafem 1 / 35                 Birth Control   \n",
       "\n",
       "                                              review  rating  \\\n",
       "0  \"I&#039;ve tried a few antidepressants over th...    10.0   \n",
       "1  \"My son has Crohn&#039;s disease and has done ...     8.0   \n",
       "2                      \"Quick reduction of symptoms\"     9.0   \n",
       "3  \"Contrave combines drugs that were used for al...     9.0   \n",
       "4  \"I have been on this birth control for one cyc...     9.0   \n",
       "\n",
       "                 date  usefulCount  \n",
       "0   February 28, 2012           22  \n",
       "1        May 17, 2009           17  \n",
       "2  September 29, 2017            3  \n",
       "3       March 5, 2017           35  \n",
       "4    October 22, 2015            4  "
      ]
     },
     "execution_count": 267,
     "metadata": {},
     "output_type": "execute_result"
    }
   ],
   "source": [
    "vertical_concat.head()"
   ]
  },
  {
   "cell_type": "code",
   "execution_count": 268,
   "id": "novel-decade",
   "metadata": {},
   "outputs": [],
   "source": [
    "# Drop Unnamed column\n",
    "\n",
    "vertical_concat.drop('Unnamed: 0', axis = 1, inplace = True)"
   ]
  },
  {
   "cell_type": "markdown",
   "id": "successful-mount",
   "metadata": {},
   "source": [
    "#### Data Cleaning"
   ]
  },
  {
   "cell_type": "code",
   "execution_count": 269,
   "id": "federal-grave",
   "metadata": {},
   "outputs": [],
   "source": [
    "# Lowercase all text in the text variables\n",
    "\n",
    "vertical_concat['drugName'] = vertical_concat['drugName'].str.lower()\n",
    "vertical_concat['condition'] = vertical_concat['condition'].str.lower()\n",
    "vertical_concat['review'] = vertical_concat['review'].str.lower()"
   ]
  },
  {
   "cell_type": "code",
   "execution_count": 270,
   "id": "solved-maine",
   "metadata": {},
   "outputs": [
    {
     "data": {
      "text/plain": [
       "(215063, 6)"
      ]
     },
     "execution_count": 270,
     "metadata": {},
     "output_type": "execute_result"
    }
   ],
   "source": [
    "vertical_concat.shape"
   ]
  },
  {
   "cell_type": "code",
   "execution_count": 271,
   "id": "concrete-situation",
   "metadata": {},
   "outputs": [
    {
     "name": "stdout",
     "output_type": "stream",
     "text": [
      "drugName has 3671 unique value(s)\n",
      "condition has 916 unique value(s)\n",
      "review has 128447 unique value(s)\n",
      "rating has 10 unique value(s)\n",
      "date has 3579 unique value(s)\n",
      "usefulCount has 397 unique value(s)\n"
     ]
    }
   ],
   "source": [
    "# Check for duplicates\n",
    "\n",
    "for c in vertical_concat.columns:\n",
    "    duplicate = vertical_concat[c].nunique()\n",
    "    print(\"{} has {} unique value(s)\".format(c, duplicate))"
   ]
  },
  {
   "cell_type": "code",
   "execution_count": 272,
   "id": "exterior-robinson",
   "metadata": {},
   "outputs": [
    {
     "name": "stdout",
     "output_type": "stream",
     "text": [
      "drugName has no missing value(s)\n",
      "condition has 1194 missing value(s)\n",
      "review has no missing value(s)\n",
      "rating has no missing value(s)\n",
      "date has no missing value(s)\n",
      "usefulCount has no missing value(s)\n"
     ]
    }
   ],
   "source": [
    "# Check for missing values\n",
    "\n",
    "for c in vertical_concat.columns:\n",
    "    missing = vertical_concat[c].isnull().sum()\n",
    "    if missing > 0:\n",
    "        print(\"{} has {} missing value(s)\".format(c, missing))\n",
    "    else:\n",
    "        print(\"{} has no missing value(s)\".format(c,missing)) "
   ]
  },
  {
   "cell_type": "code",
   "execution_count": 273,
   "id": "korean-hours",
   "metadata": {},
   "outputs": [],
   "source": [
    "# Drop rows where condition has missing values (1194 rows)\n",
    "\n",
    "vertical_concat.dropna(subset=['condition'], inplace = True)"
   ]
  },
  {
   "cell_type": "code",
   "execution_count": 274,
   "id": "hearing-matrix",
   "metadata": {},
   "outputs": [
    {
     "data": {
      "text/plain": [
       "(213869, 6)"
      ]
     },
     "execution_count": 274,
     "metadata": {},
     "output_type": "execute_result"
    }
   ],
   "source": [
    "vertical_concat.shape"
   ]
  },
  {
   "cell_type": "code",
   "execution_count": 275,
   "id": "primary-cradle",
   "metadata": {},
   "outputs": [
    {
     "name": "stdout",
     "output_type": "stream",
     "text": [
      "drugName has no missing value(s)\n",
      "condition has no missing value(s)\n",
      "review has no missing value(s)\n",
      "rating has no missing value(s)\n",
      "date has no missing value(s)\n",
      "usefulCount has no missing value(s)\n"
     ]
    }
   ],
   "source": [
    "# Check to confirm rows with condition NA were dropped\n",
    "\n",
    "for c in vertical_concat.columns:\n",
    "    missing = vertical_concat[c].isnull().sum()\n",
    "    if missing > 0:\n",
    "        print(\"{} has {} missing value(s)\".format(c, missing))\n",
    "    else:\n",
    "        print(\"{} has no missing value(s)\".format(c,missing)) "
   ]
  },
  {
   "cell_type": "code",
   "execution_count": 276,
   "id": "corporate-adrian",
   "metadata": {},
   "outputs": [
    {
     "data": {
      "text/html": [
       "<div>\n",
       "<style scoped>\n",
       "    .dataframe tbody tr th:only-of-type {\n",
       "        vertical-align: middle;\n",
       "    }\n",
       "\n",
       "    .dataframe tbody tr th {\n",
       "        vertical-align: top;\n",
       "    }\n",
       "\n",
       "    .dataframe thead th {\n",
       "        text-align: right;\n",
       "    }\n",
       "</style>\n",
       "<table border=\"1\" class=\"dataframe\">\n",
       "  <thead>\n",
       "    <tr style=\"text-align: right;\">\n",
       "      <th></th>\n",
       "      <th>drugName</th>\n",
       "      <th>condition</th>\n",
       "      <th>review</th>\n",
       "      <th>rating</th>\n",
       "      <th>date</th>\n",
       "      <th>usefulCount</th>\n",
       "    </tr>\n",
       "  </thead>\n",
       "  <tbody>\n",
       "    <tr>\n",
       "      <th>0</th>\n",
       "      <td>mirtazapine</td>\n",
       "      <td>depression</td>\n",
       "      <td>\"i&amp;#039;ve tried a few antidepressants over th...</td>\n",
       "      <td>10.0</td>\n",
       "      <td>February 28, 2012</td>\n",
       "      <td>22</td>\n",
       "    </tr>\n",
       "    <tr>\n",
       "      <th>1</th>\n",
       "      <td>mesalamine</td>\n",
       "      <td>crohn's disease, maintenance</td>\n",
       "      <td>\"my son has crohn&amp;#039;s disease and has done ...</td>\n",
       "      <td>8.0</td>\n",
       "      <td>May 17, 2009</td>\n",
       "      <td>17</td>\n",
       "    </tr>\n",
       "    <tr>\n",
       "      <th>2</th>\n",
       "      <td>bactrim</td>\n",
       "      <td>urinary tract infection</td>\n",
       "      <td>\"quick reduction of symptoms\"</td>\n",
       "      <td>9.0</td>\n",
       "      <td>September 29, 2017</td>\n",
       "      <td>3</td>\n",
       "    </tr>\n",
       "    <tr>\n",
       "      <th>3</th>\n",
       "      <td>contrave</td>\n",
       "      <td>weight loss</td>\n",
       "      <td>\"contrave combines drugs that were used for al...</td>\n",
       "      <td>9.0</td>\n",
       "      <td>March 5, 2017</td>\n",
       "      <td>35</td>\n",
       "    </tr>\n",
       "    <tr>\n",
       "      <th>4</th>\n",
       "      <td>cyclafem 1 / 35</td>\n",
       "      <td>birth control</td>\n",
       "      <td>\"i have been on this birth control for one cyc...</td>\n",
       "      <td>9.0</td>\n",
       "      <td>October 22, 2015</td>\n",
       "      <td>4</td>\n",
       "    </tr>\n",
       "  </tbody>\n",
       "</table>\n",
       "</div>"
      ],
      "text/plain": [
       "          drugName                     condition  \\\n",
       "0      mirtazapine                    depression   \n",
       "1       mesalamine  crohn's disease, maintenance   \n",
       "2          bactrim       urinary tract infection   \n",
       "3         contrave                   weight loss   \n",
       "4  cyclafem 1 / 35                 birth control   \n",
       "\n",
       "                                              review  rating  \\\n",
       "0  \"i&#039;ve tried a few antidepressants over th...    10.0   \n",
       "1  \"my son has crohn&#039;s disease and has done ...     8.0   \n",
       "2                      \"quick reduction of symptoms\"     9.0   \n",
       "3  \"contrave combines drugs that were used for al...     9.0   \n",
       "4  \"i have been on this birth control for one cyc...     9.0   \n",
       "\n",
       "                 date  usefulCount  \n",
       "0   February 28, 2012           22  \n",
       "1        May 17, 2009           17  \n",
       "2  September 29, 2017            3  \n",
       "3       March 5, 2017           35  \n",
       "4    October 22, 2015            4  "
      ]
     },
     "execution_count": 276,
     "metadata": {},
     "output_type": "execute_result"
    }
   ],
   "source": [
    "vertical_concat.head()"
   ]
  },
  {
   "cell_type": "code",
   "execution_count": 277,
   "id": "crazy-tractor",
   "metadata": {},
   "outputs": [
    {
     "data": {
      "text/plain": [
       "(213869, 6)"
      ]
     },
     "execution_count": 277,
     "metadata": {},
     "output_type": "execute_result"
    }
   ],
   "source": [
    "vertical_concat.shape"
   ]
  },
  {
   "cell_type": "code",
   "execution_count": 278,
   "id": "moderate-librarian",
   "metadata": {},
   "outputs": [
    {
     "data": {
      "text/plain": [
       "drugName        object\n",
       "condition       object\n",
       "review          object\n",
       "rating         float64\n",
       "date            object\n",
       "usefulCount      int64\n",
       "dtype: object"
      ]
     },
     "execution_count": 278,
     "metadata": {},
     "output_type": "execute_result"
    }
   ],
   "source": [
    "# Check the data types because modeling cannot take text\n",
    "\n",
    "vertical_concat.dtypes"
   ]
  },
  {
   "cell_type": "code",
   "execution_count": 279,
   "id": "innovative-badge",
   "metadata": {},
   "outputs": [],
   "source": [
    "# Convert rating to an integer as all digits are whole number\n",
    "\n",
    "vertical_concat['rating'] = vertical_concat['rating'].astype(int)"
   ]
  },
  {
   "cell_type": "code",
   "execution_count": 280,
   "id": "moving-upper",
   "metadata": {},
   "outputs": [],
   "source": [
    "# Format to year-month-day\n",
    "\n",
    "vertical_concat['date'] = pd.to_datetime(vertical_concat['date'])"
   ]
  },
  {
   "cell_type": "code",
   "execution_count": 281,
   "id": "foreign-investor",
   "metadata": {},
   "outputs": [
    {
     "data": {
      "text/plain": [
       "drugName               object\n",
       "condition              object\n",
       "review                 object\n",
       "rating                  int32\n",
       "date           datetime64[ns]\n",
       "usefulCount             int64\n",
       "dtype: object"
      ]
     },
     "execution_count": 281,
     "metadata": {},
     "output_type": "execute_result"
    }
   ],
   "source": [
    "vertical_concat.dtypes"
   ]
  },
  {
   "cell_type": "code",
   "execution_count": 282,
   "id": "enclosed-module",
   "metadata": {},
   "outputs": [],
   "source": [
    "def cleaning(s):\n",
    "    \n",
    "    # Function using sub methods to clean data by finding what to replace\n",
    "    # and substituting or replacing it\n",
    "    \n",
    "    s = str(s)\n",
    "    s = s.lower()\n",
    "    s = s.replace(\",\",\"\")\n",
    "    s = s.replace('\"', \"\")\n",
    "    s = s.replace('&#039;', '')\n",
    "    s = s.replace('.', '')\n",
    "    s = s.replace('</span>', '')\n",
    "    return s"
   ]
  },
  {
   "cell_type": "code",
   "execution_count": 283,
   "id": "statewide-fusion",
   "metadata": {},
   "outputs": [],
   "source": [
    "# Clean condition and review\n",
    "\n",
    "vertical_concat['clean review'] = [cleaning(s) for s in vertical_concat['review']]\n",
    "vertical_concat['clean condition'] = [cleaning(s) for s in vertical_concat['condition']]"
   ]
  },
  {
   "cell_type": "code",
   "execution_count": 284,
   "id": "intellectual-vietnam",
   "metadata": {},
   "outputs": [
    {
     "name": "stdout",
     "output_type": "stream",
     "text": [
      "0         ive tried a few antidepressants over the years...\n",
      "1         my son has crohns disease and has done very we...\n",
      "2                               quick reduction of symptoms\n",
      "3         contrave combines drugs that were used for alc...\n",
      "4         i have been on this birth control for one cycl...\n",
      "                                ...                        \n",
      "161292    i wrote my first report in mid-october of 2014...\n",
      "161293    i was given this in iv before surgey i immedia...\n",
      "161294    limited improvement after 4 months developed b...\n",
      "161295    ive been on thyroid medication 49 years i spen...\n",
      "161296    ive had chronic constipation all my adult life...\n",
      "Name: clean review, Length: 213869, dtype: object\n"
     ]
    }
   ],
   "source": [
    "print(vertical_concat['clean review'])"
   ]
  },
  {
   "cell_type": "code",
   "execution_count": 285,
   "id": "suspected-characteristic",
   "metadata": {},
   "outputs": [
    {
     "name": "stdout",
     "output_type": "stream",
     "text": [
      "{'her', 'don', 'y', \"shan't\", 'them', 'who', 'than', 'through', 'until', \"you're\", 'myself', 'isn', 'during', 'can', 'at', 'she', 'about', 'him', 'again', 's', \"mightn't\", 'here', 'by', \"you'll\", 'himself', 'does', 'haven', 'above', 'ours', 'further', 'down', 'that', 'with', 'same', \"wasn't\", \"shouldn't\", 'up', 'there', 'me', \"hasn't\", 'not', 'this', 'other', 'into', 'i', 'wasn', 'my', 'a', \"isn't\", \"doesn't\", 'hers', 'under', 'will', \"you've\", 'o', 'in', 'your', 'he', 'shan', 'the', 'ourselves', 'which', 'shouldn', 'been', 'once', 'such', 'how', \"that'll\", 'so', 'of', \"mustn't\", \"hadn't\", 'all', 'why', 'am', 'doesn', 'after', 'their', 'on', 'mightn', 'each', 'yourselves', \"she's\", 're', \"aren't\", 'couldn', 'any', 'we', 'or', 'have', 've', 'mustn', 'because', \"haven't\", \"weren't\", 'an', 'some', 'but', \"wouldn't\", 'hasn', 'where', \"you'd\", 'hadn', 'more', 'before', 'over', 'few', 'below', 'from', 'only', 'most', 'has', 'are', 'you', 'they', 'did', 'and', 'too', 'theirs', 'ma', 'these', 'needn', 'both', 'didn', 'when', 'what', 'against', 'do', 'now', \"it's\", 'having', 'off', \"won't\", 'its', \"needn't\", 'wouldn', 'those', 'own', 'is', 'it', 'll', 'his', 'whom', \"don't\", 'ain', 'yours', 'won', \"should've\", 'm', \"didn't\", 'being', 'then', 'nor', 'for', 'were', 'itself', 't', 'as', 'should', 'd', 'be', 'while', 'our', 'very', 'between', 'themselves', 'doing', 'just', 'was', 'aren', 'herself', 'weren', \"couldn't\", 'yourself', 'out', 'had', 'to', 'if', 'no'}\n"
     ]
    }
   ],
   "source": [
    "# Set and preview stop words that will be removed from reviews\n",
    "\n",
    "stop = set(stopwords.words('english'))\n",
    "print(stop)"
   ]
  },
  {
   "cell_type": "code",
   "execution_count": 286,
   "id": "sufficient-wyoming",
   "metadata": {},
   "outputs": [],
   "source": [
    "# Lowercase and split review\n",
    "\n",
    "vertical_concat['clean review'] = vertical_concat['clean review'].str.lower().str.split()"
   ]
  },
  {
   "cell_type": "code",
   "execution_count": 287,
   "id": "visible-planner",
   "metadata": {},
   "outputs": [],
   "source": [
    "# Remove stop words\n",
    "\n",
    "vertical_concat['clean review'] = vertical_concat['clean review'].apply(lambda x: [item for item in x if item not in stop])"
   ]
  },
  {
   "cell_type": "code",
   "execution_count": 288,
   "id": "thousand-context",
   "metadata": {},
   "outputs": [
    {
     "name": "stdout",
     "output_type": "stream",
     "text": [
      "0         [ive, tried, antidepressants, years, (citalopr...\n",
      "1         [son, crohns, disease, done, well, asacol, com...\n",
      "2                              [quick, reduction, symptoms]\n",
      "3         [contrave, combines, drugs, used, alcohol, smo...\n",
      "4         [birth, control, one, cycle, reading, reviews,...\n",
      "                                ...                        \n",
      "161292    [wrote, first, report, mid-october, 2014, alco...\n",
      "161293    [given, iv, surgey, immediately, became, anxio...\n",
      "161294    [limited, improvement, 4, months, developed, b...\n",
      "161295    [ive, thyroid, medication, 49, years, spent, f...\n",
      "161296    [ive, chronic, constipation, adult, life, trie...\n",
      "Name: clean review, Length: 213869, dtype: object\n"
     ]
    }
   ],
   "source": [
    "print(vertical_concat['clean review'])"
   ]
  },
  {
   "cell_type": "markdown",
   "id": "formed-village",
   "metadata": {},
   "source": [
    "#### Exploratory Data Analysis"
   ]
  },
  {
   "cell_type": "code",
   "execution_count": 289,
   "id": "declared-apparatus",
   "metadata": {},
   "outputs": [],
   "source": [
    "# Explore condition through grouping by count\n",
    "\n",
    "by_condition = pd.DataFrame(vertical_concat.groupby(['clean condition']).count().sort_values(by='clean condition', ascending=True)).reset_index()"
   ]
  },
  {
   "cell_type": "code",
   "execution_count": 290,
   "id": "musical-vacation",
   "metadata": {},
   "outputs": [
    {
     "data": {
      "text/html": [
       "<div>\n",
       "<style scoped>\n",
       "    .dataframe tbody tr th:only-of-type {\n",
       "        vertical-align: middle;\n",
       "    }\n",
       "\n",
       "    .dataframe tbody tr th {\n",
       "        vertical-align: top;\n",
       "    }\n",
       "\n",
       "    .dataframe thead th {\n",
       "        text-align: right;\n",
       "    }\n",
       "</style>\n",
       "<table border=\"1\" class=\"dataframe\">\n",
       "  <thead>\n",
       "    <tr style=\"text-align: right;\">\n",
       "      <th></th>\n",
       "      <th>clean condition</th>\n",
       "      <th>drugName</th>\n",
       "      <th>condition</th>\n",
       "      <th>review</th>\n",
       "      <th>rating</th>\n",
       "      <th>date</th>\n",
       "      <th>usefulCount</th>\n",
       "      <th>clean review</th>\n",
       "    </tr>\n",
       "  </thead>\n",
       "  <tbody>\n",
       "    <tr>\n",
       "      <th>0</th>\n",
       "      <td>0 users found this comment helpful</td>\n",
       "      <td>128</td>\n",
       "      <td>128</td>\n",
       "      <td>128</td>\n",
       "      <td>128</td>\n",
       "      <td>128</td>\n",
       "      <td>128</td>\n",
       "      <td>128</td>\n",
       "    </tr>\n",
       "    <tr>\n",
       "      <th>1</th>\n",
       "      <td>1 users found this comment helpful</td>\n",
       "      <td>114</td>\n",
       "      <td>114</td>\n",
       "      <td>114</td>\n",
       "      <td>114</td>\n",
       "      <td>114</td>\n",
       "      <td>114</td>\n",
       "      <td>114</td>\n",
       "    </tr>\n",
       "    <tr>\n",
       "      <th>2</th>\n",
       "      <td>10 users found this comment helpful</td>\n",
       "      <td>38</td>\n",
       "      <td>38</td>\n",
       "      <td>38</td>\n",
       "      <td>38</td>\n",
       "      <td>38</td>\n",
       "      <td>38</td>\n",
       "      <td>38</td>\n",
       "    </tr>\n",
       "    <tr>\n",
       "      <th>3</th>\n",
       "      <td>100 users found this comment helpful</td>\n",
       "      <td>1</td>\n",
       "      <td>1</td>\n",
       "      <td>1</td>\n",
       "      <td>1</td>\n",
       "      <td>1</td>\n",
       "      <td>1</td>\n",
       "      <td>1</td>\n",
       "    </tr>\n",
       "    <tr>\n",
       "      <th>4</th>\n",
       "      <td>105 users found this comment helpful</td>\n",
       "      <td>1</td>\n",
       "      <td>1</td>\n",
       "      <td>1</td>\n",
       "      <td>1</td>\n",
       "      <td>1</td>\n",
       "      <td>1</td>\n",
       "      <td>1</td>\n",
       "    </tr>\n",
       "  </tbody>\n",
       "</table>\n",
       "</div>"
      ],
      "text/plain": [
       "                        clean condition  drugName  condition  review  rating  \\\n",
       "0    0 users found this comment helpful       128        128     128     128   \n",
       "1    1 users found this comment helpful       114        114     114     114   \n",
       "2   10 users found this comment helpful        38         38      38      38   \n",
       "3  100 users found this comment helpful         1          1       1       1   \n",
       "4  105 users found this comment helpful         1          1       1       1   \n",
       "\n",
       "   date  usefulCount  clean review  \n",
       "0   128          128           128  \n",
       "1   114          114           114  \n",
       "2    38           38            38  \n",
       "3     1            1             1  \n",
       "4     1            1             1  "
      ]
     },
     "execution_count": 290,
     "metadata": {},
     "output_type": "execute_result"
    }
   ],
   "source": [
    "by_condition.head()"
   ]
  },
  {
   "cell_type": "code",
   "execution_count": 291,
   "id": "smooth-marketing",
   "metadata": {},
   "outputs": [],
   "source": [
    "# Explore rating through grouping by review count per rating\n",
    "\n",
    "by_rating = pd.DataFrame(vertical_concat.groupby(['rating']).count().sort_values(by='rating', ascending=False)).reset_index()"
   ]
  },
  {
   "cell_type": "code",
   "execution_count": 292,
   "id": "perfect-nursery",
   "metadata": {},
   "outputs": [],
   "source": [
    "# Remove rows where the condition variable is listed incorrectly\n",
    "\n",
    "by_condition = by_condition.drop(index = [0, 1, 2, 3, 4, 5, 6, 7,\n",
    "                                         8, 9, 10, 11, 12, 13, 14, \n",
    "                                         15, 16, 17, 18, 19, 20, 21,\n",
    "                                         22, 23, 24, 25, 26, 27, 28,\n",
    "                                         29, 30, 31, 32, 33, 34, 35,\n",
    "                                         36, 37, 38, 39, 40, 41, 42,\n",
    "                                         43, 44, 45, 46, 47, 48, 49, \n",
    "                                         50, 51, 52, 53, 54, 55, 56,\n",
    "                                         57, 58, 59, 60, 61, 62, 63, \n",
    "                                         64, 65, 66, 67, 68, 69, 70,\n",
    "                                         71, 72, 73, 74, 75, 76, 77,\n",
    "                                         78, 79]).reset_index()"
   ]
  },
  {
   "cell_type": "code",
   "execution_count": 293,
   "id": "basic-eagle",
   "metadata": {},
   "outputs": [
    {
     "data": {
      "text/html": [
       "<div>\n",
       "<style scoped>\n",
       "    .dataframe tbody tr th:only-of-type {\n",
       "        vertical-align: middle;\n",
       "    }\n",
       "\n",
       "    .dataframe tbody tr th {\n",
       "        vertical-align: top;\n",
       "    }\n",
       "\n",
       "    .dataframe thead th {\n",
       "        text-align: right;\n",
       "    }\n",
       "</style>\n",
       "<table border=\"1\" class=\"dataframe\">\n",
       "  <thead>\n",
       "    <tr style=\"text-align: right;\">\n",
       "      <th></th>\n",
       "      <th>level_0</th>\n",
       "      <th>index</th>\n",
       "      <th>clean condition</th>\n",
       "      <th>drugName</th>\n",
       "      <th>condition</th>\n",
       "      <th>review</th>\n",
       "      <th>rating</th>\n",
       "      <th>date</th>\n",
       "      <th>usefulCount</th>\n",
       "      <th>clean review</th>\n",
       "    </tr>\n",
       "  </thead>\n",
       "  <tbody>\n",
       "    <tr>\n",
       "      <th>0</th>\n",
       "      <td>0</td>\n",
       "      <td>80</td>\n",
       "      <td>abdominal distension</td>\n",
       "      <td>2</td>\n",
       "      <td>2</td>\n",
       "      <td>2</td>\n",
       "      <td>2</td>\n",
       "      <td>2</td>\n",
       "      <td>2</td>\n",
       "      <td>2</td>\n",
       "    </tr>\n",
       "    <tr>\n",
       "      <th>1</th>\n",
       "      <td>1</td>\n",
       "      <td>81</td>\n",
       "      <td>abnormal uterine bleeding</td>\n",
       "      <td>2744</td>\n",
       "      <td>2744</td>\n",
       "      <td>2744</td>\n",
       "      <td>2744</td>\n",
       "      <td>2744</td>\n",
       "      <td>2744</td>\n",
       "      <td>2744</td>\n",
       "    </tr>\n",
       "    <tr>\n",
       "      <th>2</th>\n",
       "      <td>2</td>\n",
       "      <td>82</td>\n",
       "      <td>abortion</td>\n",
       "      <td>9</td>\n",
       "      <td>9</td>\n",
       "      <td>9</td>\n",
       "      <td>9</td>\n",
       "      <td>9</td>\n",
       "      <td>9</td>\n",
       "      <td>9</td>\n",
       "    </tr>\n",
       "    <tr>\n",
       "      <th>3</th>\n",
       "      <td>3</td>\n",
       "      <td>83</td>\n",
       "      <td>acetaminophen overdose</td>\n",
       "      <td>2</td>\n",
       "      <td>2</td>\n",
       "      <td>2</td>\n",
       "      <td>2</td>\n",
       "      <td>2</td>\n",
       "      <td>2</td>\n",
       "      <td>2</td>\n",
       "    </tr>\n",
       "    <tr>\n",
       "      <th>4</th>\n",
       "      <td>4</td>\n",
       "      <td>84</td>\n",
       "      <td>acial lipoatrophy</td>\n",
       "      <td>2</td>\n",
       "      <td>2</td>\n",
       "      <td>2</td>\n",
       "      <td>2</td>\n",
       "      <td>2</td>\n",
       "      <td>2</td>\n",
       "      <td>2</td>\n",
       "    </tr>\n",
       "  </tbody>\n",
       "</table>\n",
       "</div>"
      ],
      "text/plain": [
       "   level_0  index            clean condition  drugName  condition  review  \\\n",
       "0        0     80       abdominal distension         2          2       2   \n",
       "1        1     81  abnormal uterine bleeding      2744       2744    2744   \n",
       "2        2     82                   abortion         9          9       9   \n",
       "3        3     83     acetaminophen overdose         2          2       2   \n",
       "4        4     84          acial lipoatrophy         2          2       2   \n",
       "\n",
       "   rating  date  usefulCount  clean review  \n",
       "0       2     2            2             2  \n",
       "1    2744  2744         2744          2744  \n",
       "2       9     9            9             9  \n",
       "3       2     2            2             2  \n",
       "4       2     2            2             2  "
      ]
     },
     "execution_count": 293,
     "metadata": {},
     "output_type": "execute_result"
    }
   ],
   "source": [
    "by_condition.head().reset_index()"
   ]
  },
  {
   "cell_type": "code",
   "execution_count": 294,
   "id": "identical-headset",
   "metadata": {},
   "outputs": [
    {
     "data": {
      "text/html": [
       "<div>\n",
       "<style scoped>\n",
       "    .dataframe tbody tr th:only-of-type {\n",
       "        vertical-align: middle;\n",
       "    }\n",
       "\n",
       "    .dataframe tbody tr th {\n",
       "        vertical-align: top;\n",
       "    }\n",
       "\n",
       "    .dataframe thead th {\n",
       "        text-align: right;\n",
       "    }\n",
       "</style>\n",
       "<table border=\"1\" class=\"dataframe\">\n",
       "  <thead>\n",
       "    <tr style=\"text-align: right;\">\n",
       "      <th></th>\n",
       "      <th>rating</th>\n",
       "      <th>drugName</th>\n",
       "      <th>condition</th>\n",
       "      <th>review</th>\n",
       "      <th>date</th>\n",
       "      <th>usefulCount</th>\n",
       "      <th>clean review</th>\n",
       "      <th>clean condition</th>\n",
       "    </tr>\n",
       "  </thead>\n",
       "  <tbody>\n",
       "    <tr>\n",
       "      <th>0</th>\n",
       "      <td>10</td>\n",
       "      <td>67682</td>\n",
       "      <td>67682</td>\n",
       "      <td>67682</td>\n",
       "      <td>67682</td>\n",
       "      <td>67682</td>\n",
       "      <td>67682</td>\n",
       "      <td>67682</td>\n",
       "    </tr>\n",
       "    <tr>\n",
       "      <th>1</th>\n",
       "      <td>9</td>\n",
       "      <td>36499</td>\n",
       "      <td>36499</td>\n",
       "      <td>36499</td>\n",
       "      <td>36499</td>\n",
       "      <td>36499</td>\n",
       "      <td>36499</td>\n",
       "      <td>36499</td>\n",
       "    </tr>\n",
       "    <tr>\n",
       "      <th>2</th>\n",
       "      <td>8</td>\n",
       "      <td>24909</td>\n",
       "      <td>24909</td>\n",
       "      <td>24909</td>\n",
       "      <td>24909</td>\n",
       "      <td>24909</td>\n",
       "      <td>24909</td>\n",
       "      <td>24909</td>\n",
       "    </tr>\n",
       "    <tr>\n",
       "      <th>3</th>\n",
       "      <td>7</td>\n",
       "      <td>12470</td>\n",
       "      <td>12470</td>\n",
       "      <td>12470</td>\n",
       "      <td>12470</td>\n",
       "      <td>12470</td>\n",
       "      <td>12470</td>\n",
       "      <td>12470</td>\n",
       "    </tr>\n",
       "    <tr>\n",
       "      <th>4</th>\n",
       "      <td>6</td>\n",
       "      <td>8403</td>\n",
       "      <td>8403</td>\n",
       "      <td>8403</td>\n",
       "      <td>8403</td>\n",
       "      <td>8403</td>\n",
       "      <td>8403</td>\n",
       "      <td>8403</td>\n",
       "    </tr>\n",
       "  </tbody>\n",
       "</table>\n",
       "</div>"
      ],
      "text/plain": [
       "   rating  drugName  condition  review   date  usefulCount  clean review  \\\n",
       "0      10     67682      67682   67682  67682        67682         67682   \n",
       "1       9     36499      36499   36499  36499        36499         36499   \n",
       "2       8     24909      24909   24909  24909        24909         24909   \n",
       "3       7     12470      12470   12470  12470        12470         12470   \n",
       "4       6      8403       8403    8403   8403         8403          8403   \n",
       "\n",
       "   clean condition  \n",
       "0            67682  \n",
       "1            36499  \n",
       "2            24909  \n",
       "3            12470  \n",
       "4             8403  "
      ]
     },
     "execution_count": 294,
     "metadata": {},
     "output_type": "execute_result"
    }
   ],
   "source": [
    "by_rating.head()"
   ]
  },
  {
   "cell_type": "code",
   "execution_count": 295,
   "id": "immediate-suite",
   "metadata": {},
   "outputs": [],
   "source": [
    "# Clean up by_condition dataframe leaving only count\n",
    "\n",
    "by_condition['Count'] = by_condition[['drugName']]\n",
    "by_condition.drop('drugName', axis = 1, inplace = True)\n",
    "by_condition.drop('condition', axis = 1, inplace = True)\n",
    "by_condition.drop('review', axis = 1, inplace = True)\n",
    "by_condition.drop('rating', axis = 1, inplace = True)\n",
    "by_condition.drop('date', axis = 1, inplace = True)\n",
    "by_condition.drop('usefulCount', axis = 1, inplace = True)\n",
    "by_condition.drop('clean review', axis = 1, inplace = True)\n",
    "by_condition.drop('index', axis = 1, inplace = True)"
   ]
  },
  {
   "cell_type": "code",
   "execution_count": 296,
   "id": "collaborative-shame",
   "metadata": {},
   "outputs": [],
   "source": [
    "# Clean up by_rating dataframe leaving only count\n",
    "\n",
    "by_rating['Count'] = by_rating[['drugName']]\n",
    "by_rating.drop('condition', axis = 1, inplace = True)\n",
    "by_rating.drop('review', axis = 1, inplace = True)\n",
    "by_rating.drop('date', axis = 1, inplace = True)\n",
    "by_rating.drop('usefulCount', axis = 1, inplace = True)\n",
    "by_rating.drop('clean review', axis = 1, inplace = True)\n",
    "by_rating.drop('clean condition', axis = 1, inplace = True)\n",
    "by_rating.drop('drugName', axis = 1, inplace = True)"
   ]
  },
  {
   "cell_type": "code",
   "execution_count": 297,
   "id": "maritime-barrel",
   "metadata": {},
   "outputs": [
    {
     "data": {
      "text/html": [
       "<div>\n",
       "<style scoped>\n",
       "    .dataframe tbody tr th:only-of-type {\n",
       "        vertical-align: middle;\n",
       "    }\n",
       "\n",
       "    .dataframe tbody tr th {\n",
       "        vertical-align: top;\n",
       "    }\n",
       "\n",
       "    .dataframe thead th {\n",
       "        text-align: right;\n",
       "    }\n",
       "</style>\n",
       "<table border=\"1\" class=\"dataframe\">\n",
       "  <thead>\n",
       "    <tr style=\"text-align: right;\">\n",
       "      <th></th>\n",
       "      <th>clean condition</th>\n",
       "      <th>Count</th>\n",
       "    </tr>\n",
       "  </thead>\n",
       "  <tbody>\n",
       "    <tr>\n",
       "      <th>0</th>\n",
       "      <td>abdominal distension</td>\n",
       "      <td>2</td>\n",
       "    </tr>\n",
       "    <tr>\n",
       "      <th>1</th>\n",
       "      <td>abnormal uterine bleeding</td>\n",
       "      <td>2744</td>\n",
       "    </tr>\n",
       "    <tr>\n",
       "      <th>2</th>\n",
       "      <td>abortion</td>\n",
       "      <td>9</td>\n",
       "    </tr>\n",
       "    <tr>\n",
       "      <th>3</th>\n",
       "      <td>acetaminophen overdose</td>\n",
       "      <td>2</td>\n",
       "    </tr>\n",
       "    <tr>\n",
       "      <th>4</th>\n",
       "      <td>acial lipoatrophy</td>\n",
       "      <td>2</td>\n",
       "    </tr>\n",
       "  </tbody>\n",
       "</table>\n",
       "</div>"
      ],
      "text/plain": [
       "             clean condition  Count\n",
       "0       abdominal distension      2\n",
       "1  abnormal uterine bleeding   2744\n",
       "2                   abortion      9\n",
       "3     acetaminophen overdose      2\n",
       "4          acial lipoatrophy      2"
      ]
     },
     "execution_count": 297,
     "metadata": {},
     "output_type": "execute_result"
    }
   ],
   "source": [
    "by_condition.head()"
   ]
  },
  {
   "cell_type": "code",
   "execution_count": 298,
   "id": "functional-transformation",
   "metadata": {},
   "outputs": [
    {
     "data": {
      "text/html": [
       "<div>\n",
       "<style scoped>\n",
       "    .dataframe tbody tr th:only-of-type {\n",
       "        vertical-align: middle;\n",
       "    }\n",
       "\n",
       "    .dataframe tbody tr th {\n",
       "        vertical-align: top;\n",
       "    }\n",
       "\n",
       "    .dataframe thead th {\n",
       "        text-align: right;\n",
       "    }\n",
       "</style>\n",
       "<table border=\"1\" class=\"dataframe\">\n",
       "  <thead>\n",
       "    <tr style=\"text-align: right;\">\n",
       "      <th></th>\n",
       "      <th>rating</th>\n",
       "      <th>Count</th>\n",
       "    </tr>\n",
       "  </thead>\n",
       "  <tbody>\n",
       "    <tr>\n",
       "      <th>0</th>\n",
       "      <td>10</td>\n",
       "      <td>67682</td>\n",
       "    </tr>\n",
       "    <tr>\n",
       "      <th>1</th>\n",
       "      <td>9</td>\n",
       "      <td>36499</td>\n",
       "    </tr>\n",
       "    <tr>\n",
       "      <th>2</th>\n",
       "      <td>8</td>\n",
       "      <td>24909</td>\n",
       "    </tr>\n",
       "    <tr>\n",
       "      <th>3</th>\n",
       "      <td>7</td>\n",
       "      <td>12470</td>\n",
       "    </tr>\n",
       "    <tr>\n",
       "      <th>4</th>\n",
       "      <td>6</td>\n",
       "      <td>8403</td>\n",
       "    </tr>\n",
       "  </tbody>\n",
       "</table>\n",
       "</div>"
      ],
      "text/plain": [
       "   rating  Count\n",
       "0      10  67682\n",
       "1       9  36499\n",
       "2       8  24909\n",
       "3       7  12470\n",
       "4       6   8403"
      ]
     },
     "execution_count": 298,
     "metadata": {},
     "output_type": "execute_result"
    }
   ],
   "source": [
    "by_rating.head()"
   ]
  },
  {
   "cell_type": "code",
   "execution_count": 299,
   "id": "automotive-northeast",
   "metadata": {},
   "outputs": [
    {
     "data": {
      "text/plain": [
       "(836, 2)"
      ]
     },
     "execution_count": 299,
     "metadata": {},
     "output_type": "execute_result"
    }
   ],
   "source": [
    "by_condition.shape"
   ]
  },
  {
   "cell_type": "code",
   "execution_count": 300,
   "id": "loaded-bhutan",
   "metadata": {},
   "outputs": [
    {
     "data": {
      "text/plain": [
       "(10, 2)"
      ]
     },
     "execution_count": 300,
     "metadata": {},
     "output_type": "execute_result"
    }
   ],
   "source": [
    "by_rating.shape"
   ]
  },
  {
   "cell_type": "code",
   "execution_count": 301,
   "id": "olympic-variance",
   "metadata": {},
   "outputs": [
    {
     "data": {
      "text/plain": [
       "102    38436\n",
       "201    12164\n",
       "563     8245\n",
       "58      7812\n",
       "6       7435\n",
       "101     5604\n",
       "388     4904\n",
       "826     4857\n",
       "531     4757\n",
       "15      4509\n",
       "212     3362\n",
       "243     3290\n",
       "330     3104\n",
       "810     3085\n",
       "1       2744\n",
       "110     2498\n",
       "718     2440\n",
       "375     2370\n",
       "461     2277\n",
       "59      2236\n",
       "Name: Count, dtype: int64"
      ]
     },
     "execution_count": 301,
     "metadata": {},
     "output_type": "execute_result"
    }
   ],
   "source": [
    "by_condition['Count'].nlargest(20)"
   ]
  },
  {
   "cell_type": "code",
   "execution_count": 302,
   "id": "taken-stupid",
   "metadata": {},
   "outputs": [],
   "source": [
    "# From looking at our largest counts of condition, we can keep just those to visualize\n",
    "\n",
    "condition = by_condition[by_condition['Count']>2200].sort_values(by = 'Count')"
   ]
  },
  {
   "cell_type": "code",
   "execution_count": 303,
   "id": "crazy-hampshire",
   "metadata": {},
   "outputs": [
    {
     "data": {
      "text/plain": [
       "Text(0, 0.5, 'Condition')"
      ]
     },
     "execution_count": 303,
     "metadata": {},
     "output_type": "execute_result"
    },
    {
     "data": {
      "image/png": "[encoded data removed]",
      "text/plain": [
       "<Figure size 432x288 with 1 Axes>"
      ]
     },
     "metadata": {
      "needs_background": "light"
     },
     "output_type": "display_data"
    }
   ],
   "source": [
    "plt.barh(condition['clean condition'], condition['Count'])\n",
    "plt.title('Top 20 Conditions in Drug Review')\n",
    "plt.xlabel('Count')\n",
    "plt.ylabel('Condition')"
   ]
  },
  {
   "cell_type": "code",
   "execution_count": 304,
   "id": "congressional-poker",
   "metadata": {},
   "outputs": [],
   "source": [
    "# Let's look at the top 6\n",
    "\n",
    "condition_1 = by_condition[by_condition['Count']>5000].sort_values(by = 'Count')"
   ]
  },
  {
   "cell_type": "code",
   "execution_count": 305,
   "id": "white-private",
   "metadata": {},
   "outputs": [
    {
     "data": {
      "text/plain": [
       "(6, 2)"
      ]
     },
     "execution_count": 305,
     "metadata": {},
     "output_type": "execute_result"
    }
   ],
   "source": [
    "condition_1.shape"
   ]
  },
  {
   "cell_type": "code",
   "execution_count": 306,
   "id": "challenging-manufacturer",
   "metadata": {},
   "outputs": [],
   "source": [
    "# Subset the dataframe to include only rows with the top conditions\n",
    "\n",
    "subset = vertical_concat['condition'].isin (['birth control', 'depression', 'bipolar disorde', 'acne', 'anxiety', 'pain'])"
   ]
  },
  {
   "cell_type": "code",
   "execution_count": 307,
   "id": "pharmaceutical-playing",
   "metadata": {},
   "outputs": [],
   "source": [
    "# filter specific columns\n",
    "cols = ['drugName', 'condition', 'review', 'rating', 'usefulCount', 'clean review', 'date']"
   ]
  },
  {
   "cell_type": "code",
   "execution_count": 308,
   "id": "appointed-context",
   "metadata": {},
   "outputs": [],
   "source": [
    "df_for_model = vertical_concat.loc[subset, cols].reset_index()"
   ]
  },
  {
   "cell_type": "code",
   "execution_count": 309,
   "id": "familiar-branch",
   "metadata": {},
   "outputs": [
    {
     "data": {
      "text/html": [
       "<div>\n",
       "<style scoped>\n",
       "    .dataframe tbody tr th:only-of-type {\n",
       "        vertical-align: middle;\n",
       "    }\n",
       "\n",
       "    .dataframe tbody tr th {\n",
       "        vertical-align: top;\n",
       "    }\n",
       "\n",
       "    .dataframe thead th {\n",
       "        text-align: right;\n",
       "    }\n",
       "</style>\n",
       "<table border=\"1\" class=\"dataframe\">\n",
       "  <thead>\n",
       "    <tr style=\"text-align: right;\">\n",
       "      <th></th>\n",
       "      <th>index</th>\n",
       "      <th>drugName</th>\n",
       "      <th>condition</th>\n",
       "      <th>review</th>\n",
       "      <th>rating</th>\n",
       "      <th>usefulCount</th>\n",
       "      <th>clean review</th>\n",
       "      <th>date</th>\n",
       "    </tr>\n",
       "  </thead>\n",
       "  <tbody>\n",
       "    <tr>\n",
       "      <th>0</th>\n",
       "      <td>0</td>\n",
       "      <td>mirtazapine</td>\n",
       "      <td>depression</td>\n",
       "      <td>\"i&amp;#039;ve tried a few antidepressants over th...</td>\n",
       "      <td>10</td>\n",
       "      <td>22</td>\n",
       "      <td>[ive, tried, antidepressants, years, (citalopr...</td>\n",
       "      <td>2012-02-28</td>\n",
       "    </tr>\n",
       "    <tr>\n",
       "      <th>1</th>\n",
       "      <td>4</td>\n",
       "      <td>cyclafem 1 / 35</td>\n",
       "      <td>birth control</td>\n",
       "      <td>\"i have been on this birth control for one cyc...</td>\n",
       "      <td>9</td>\n",
       "      <td>4</td>\n",
       "      <td>[birth, control, one, cycle, reading, reviews,...</td>\n",
       "      <td>2015-10-22</td>\n",
       "    </tr>\n",
       "    <tr>\n",
       "      <th>2</th>\n",
       "      <td>6</td>\n",
       "      <td>copper</td>\n",
       "      <td>birth control</td>\n",
       "      <td>\"i&amp;#039;ve had the copper coil for about 3 mon...</td>\n",
       "      <td>6</td>\n",
       "      <td>1</td>\n",
       "      <td>[ive, copper, coil, 3, months, really, excited...</td>\n",
       "      <td>2016-06-06</td>\n",
       "    </tr>\n",
       "    <tr>\n",
       "      <th>3</th>\n",
       "      <td>9</td>\n",
       "      <td>levora</td>\n",
       "      <td>birth control</td>\n",
       "      <td>\"i was on this pill for almost two years. it d...</td>\n",
       "      <td>2</td>\n",
       "      <td>3</td>\n",
       "      <td>[pill, almost, two, years, work, far, getting,...</td>\n",
       "      <td>2011-04-16</td>\n",
       "    </tr>\n",
       "    <tr>\n",
       "      <th>4</th>\n",
       "      <td>17</td>\n",
       "      <td>microgestin fe 1 / 20</td>\n",
       "      <td>acne</td>\n",
       "      <td>\"so i was on ginanvi for about 3 months before...</td>\n",
       "      <td>3</td>\n",
       "      <td>1</td>\n",
       "      <td>[ginanvi, 3, months, switched, pill, due, high...</td>\n",
       "      <td>2017-06-22</td>\n",
       "    </tr>\n",
       "  </tbody>\n",
       "</table>\n",
       "</div>"
      ],
      "text/plain": [
       "   index               drugName      condition  \\\n",
       "0      0            mirtazapine     depression   \n",
       "1      4        cyclafem 1 / 35  birth control   \n",
       "2      6                 copper  birth control   \n",
       "3      9                 levora  birth control   \n",
       "4     17  microgestin fe 1 / 20           acne   \n",
       "\n",
       "                                              review  rating  usefulCount  \\\n",
       "0  \"i&#039;ve tried a few antidepressants over th...      10           22   \n",
       "1  \"i have been on this birth control for one cyc...       9            4   \n",
       "2  \"i&#039;ve had the copper coil for about 3 mon...       6            1   \n",
       "3  \"i was on this pill for almost two years. it d...       2            3   \n",
       "4  \"so i was on ginanvi for about 3 months before...       3            1   \n",
       "\n",
       "                                        clean review       date  \n",
       "0  [ive, tried, antidepressants, years, (citalopr... 2012-02-28  \n",
       "1  [birth, control, one, cycle, reading, reviews,... 2015-10-22  \n",
       "2  [ive, copper, coil, 3, months, really, excited... 2016-06-06  \n",
       "3  [pill, almost, two, years, work, far, getting,... 2011-04-16  \n",
       "4  [ginanvi, 3, months, switched, pill, due, high... 2017-06-22  "
      ]
     },
     "execution_count": 309,
     "metadata": {},
     "output_type": "execute_result"
    }
   ],
   "source": [
    "df_for_model.head()"
   ]
  },
  {
   "cell_type": "code",
   "execution_count": 310,
   "id": "canadian-investigation",
   "metadata": {},
   "outputs": [],
   "source": [
    "df_for_model.drop('index', axis = 1, inplace = True)\n",
    "df_for_model.drop('review', axis = 1, inplace = True)"
   ]
  },
  {
   "cell_type": "code",
   "execution_count": 311,
   "id": "certified-density",
   "metadata": {},
   "outputs": [
    {
     "data": {
      "text/html": [
       "<div>\n",
       "<style scoped>\n",
       "    .dataframe tbody tr th:only-of-type {\n",
       "        vertical-align: middle;\n",
       "    }\n",
       "\n",
       "    .dataframe tbody tr th {\n",
       "        vertical-align: top;\n",
       "    }\n",
       "\n",
       "    .dataframe thead th {\n",
       "        text-align: right;\n",
       "    }\n",
       "</style>\n",
       "<table border=\"1\" class=\"dataframe\">\n",
       "  <thead>\n",
       "    <tr style=\"text-align: right;\">\n",
       "      <th></th>\n",
       "      <th>drugName</th>\n",
       "      <th>condition</th>\n",
       "      <th>rating</th>\n",
       "      <th>usefulCount</th>\n",
       "      <th>clean review</th>\n",
       "      <th>date</th>\n",
       "    </tr>\n",
       "  </thead>\n",
       "  <tbody>\n",
       "    <tr>\n",
       "      <th>0</th>\n",
       "      <td>mirtazapine</td>\n",
       "      <td>depression</td>\n",
       "      <td>10</td>\n",
       "      <td>22</td>\n",
       "      <td>[ive, tried, antidepressants, years, (citalopr...</td>\n",
       "      <td>2012-02-28</td>\n",
       "    </tr>\n",
       "    <tr>\n",
       "      <th>1</th>\n",
       "      <td>cyclafem 1 / 35</td>\n",
       "      <td>birth control</td>\n",
       "      <td>9</td>\n",
       "      <td>4</td>\n",
       "      <td>[birth, control, one, cycle, reading, reviews,...</td>\n",
       "      <td>2015-10-22</td>\n",
       "    </tr>\n",
       "    <tr>\n",
       "      <th>2</th>\n",
       "      <td>copper</td>\n",
       "      <td>birth control</td>\n",
       "      <td>6</td>\n",
       "      <td>1</td>\n",
       "      <td>[ive, copper, coil, 3, months, really, excited...</td>\n",
       "      <td>2016-06-06</td>\n",
       "    </tr>\n",
       "    <tr>\n",
       "      <th>3</th>\n",
       "      <td>levora</td>\n",
       "      <td>birth control</td>\n",
       "      <td>2</td>\n",
       "      <td>3</td>\n",
       "      <td>[pill, almost, two, years, work, far, getting,...</td>\n",
       "      <td>2011-04-16</td>\n",
       "    </tr>\n",
       "    <tr>\n",
       "      <th>4</th>\n",
       "      <td>microgestin fe 1 / 20</td>\n",
       "      <td>acne</td>\n",
       "      <td>3</td>\n",
       "      <td>1</td>\n",
       "      <td>[ginanvi, 3, months, switched, pill, due, high...</td>\n",
       "      <td>2017-06-22</td>\n",
       "    </tr>\n",
       "  </tbody>\n",
       "</table>\n",
       "</div>"
      ],
      "text/plain": [
       "                drugName      condition  rating  usefulCount  \\\n",
       "0            mirtazapine     depression      10           22   \n",
       "1        cyclafem 1 / 35  birth control       9            4   \n",
       "2                 copper  birth control       6            1   \n",
       "3                 levora  birth control       2            3   \n",
       "4  microgestin fe 1 / 20           acne       3            1   \n",
       "\n",
       "                                        clean review       date  \n",
       "0  [ive, tried, antidepressants, years, (citalopr... 2012-02-28  \n",
       "1  [birth, control, one, cycle, reading, reviews,... 2015-10-22  \n",
       "2  [ive, copper, coil, 3, months, really, excited... 2016-06-06  \n",
       "3  [pill, almost, two, years, work, far, getting,... 2011-04-16  \n",
       "4  [ginanvi, 3, months, switched, pill, due, high... 2017-06-22  "
      ]
     },
     "execution_count": 311,
     "metadata": {},
     "output_type": "execute_result"
    }
   ],
   "source": [
    "df_for_model.head()"
   ]
  },
  {
   "cell_type": "code",
   "execution_count": 312,
   "id": "golden-somalia",
   "metadata": {},
   "outputs": [
    {
     "data": {
      "image/png": "[encoded data removed]",
      "text/plain": [
       "<Figure size 432x288 with 1 Axes>"
      ]
     },
     "metadata": {
      "needs_background": "light"
     },
     "output_type": "display_data"
    }
   ],
   "source": [
    "# Create treemap of the top six conditions that were reviewed\n",
    "\n",
    "ax = squarify.plot(sizes = condition_1['Count'], label = condition_1['clean condition'])\n",
    "plt.axis('off')\n",
    "plt.title('Conditions with over 5000 Drug Reviews')\n",
    "plt.show()"
   ]
  },
  {
   "cell_type": "code",
   "execution_count": 313,
   "id": "academic-retro",
   "metadata": {},
   "outputs": [
    {
     "data": {
      "text/plain": [
       "Text(0, 0.5, 'Count')"
      ]
     },
     "execution_count": 313,
     "metadata": {},
     "output_type": "execute_result"
    },
    {
     "data": {
      "image/png": "[encoded data removed]",
      "text/plain": [
       "<Figure size 432x288 with 1 Axes>"
      ]
     },
     "metadata": {
      "needs_background": "light"
     },
     "output_type": "display_data"
    }
   ],
   "source": [
    "# A look at count of drug review by rating\n",
    "\n",
    "plt.bar(by_rating['rating'], by_rating['Count'])\n",
    "plt.title('Count of Drug Review by Ratings')\n",
    "plt.xlabel('Drug Ratings')\n",
    "plt.ylabel('Count')"
   ]
  },
  {
   "cell_type": "markdown",
   "id": "compressed-delta",
   "metadata": {},
   "source": [
    "#### Sentiment Analysis"
   ]
  },
  {
   "cell_type": "code",
   "execution_count": 314,
   "id": "stock-bearing",
   "metadata": {
    "scrolled": true
   },
   "outputs": [
    {
     "data": {
      "text/html": [
       "<div>\n",
       "<style scoped>\n",
       "    .dataframe tbody tr th:only-of-type {\n",
       "        vertical-align: middle;\n",
       "    }\n",
       "\n",
       "    .dataframe tbody tr th {\n",
       "        vertical-align: top;\n",
       "    }\n",
       "\n",
       "    .dataframe thead th {\n",
       "        text-align: right;\n",
       "    }\n",
       "</style>\n",
       "<table border=\"1\" class=\"dataframe\">\n",
       "  <thead>\n",
       "    <tr style=\"text-align: right;\">\n",
       "      <th></th>\n",
       "      <th>drugName</th>\n",
       "      <th>condition</th>\n",
       "      <th>rating</th>\n",
       "      <th>usefulCount</th>\n",
       "      <th>clean review</th>\n",
       "      <th>date</th>\n",
       "      <th>sentiment</th>\n",
       "    </tr>\n",
       "  </thead>\n",
       "  <tbody>\n",
       "    <tr>\n",
       "      <th>0</th>\n",
       "      <td>mirtazapine</td>\n",
       "      <td>depression</td>\n",
       "      <td>10</td>\n",
       "      <td>22</td>\n",
       "      <td>[ive, tried, antidepressants, years, (citalopr...</td>\n",
       "      <td>2012-02-28</td>\n",
       "      <td>1</td>\n",
       "    </tr>\n",
       "    <tr>\n",
       "      <th>1</th>\n",
       "      <td>cyclafem 1 / 35</td>\n",
       "      <td>birth control</td>\n",
       "      <td>9</td>\n",
       "      <td>4</td>\n",
       "      <td>[birth, control, one, cycle, reading, reviews,...</td>\n",
       "      <td>2015-10-22</td>\n",
       "      <td>1</td>\n",
       "    </tr>\n",
       "    <tr>\n",
       "      <th>2</th>\n",
       "      <td>copper</td>\n",
       "      <td>birth control</td>\n",
       "      <td>6</td>\n",
       "      <td>1</td>\n",
       "      <td>[ive, copper, coil, 3, months, really, excited...</td>\n",
       "      <td>2016-06-06</td>\n",
       "      <td>0</td>\n",
       "    </tr>\n",
       "    <tr>\n",
       "      <th>3</th>\n",
       "      <td>levora</td>\n",
       "      <td>birth control</td>\n",
       "      <td>2</td>\n",
       "      <td>3</td>\n",
       "      <td>[pill, almost, two, years, work, far, getting,...</td>\n",
       "      <td>2011-04-16</td>\n",
       "      <td>0</td>\n",
       "    </tr>\n",
       "    <tr>\n",
       "      <th>4</th>\n",
       "      <td>microgestin fe 1 / 20</td>\n",
       "      <td>acne</td>\n",
       "      <td>3</td>\n",
       "      <td>1</td>\n",
       "      <td>[ginanvi, 3, months, switched, pill, due, high...</td>\n",
       "      <td>2017-06-22</td>\n",
       "      <td>0</td>\n",
       "    </tr>\n",
       "  </tbody>\n",
       "</table>\n",
       "</div>"
      ],
      "text/plain": [
       "                drugName      condition  rating  usefulCount  \\\n",
       "0            mirtazapine     depression      10           22   \n",
       "1        cyclafem 1 / 35  birth control       9            4   \n",
       "2                 copper  birth control       6            1   \n",
       "3                 levora  birth control       2            3   \n",
       "4  microgestin fe 1 / 20           acne       3            1   \n",
       "\n",
       "                                        clean review       date  sentiment  \n",
       "0  [ive, tried, antidepressants, years, (citalopr... 2012-02-28          1  \n",
       "1  [birth, control, one, cycle, reading, reviews,... 2015-10-22          1  \n",
       "2  [ive, copper, coil, 3, months, really, excited... 2016-06-06          0  \n",
       "3  [pill, almost, two, years, work, far, getting,... 2011-04-16          0  \n",
       "4  [ginanvi, 3, months, switched, pill, due, high... 2017-06-22          0  "
      ]
     },
     "execution_count": 314,
     "metadata": {},
     "output_type": "execute_result"
    }
   ],
   "source": [
    "# Define a function to assign 1 for positive and 0 for negative\n",
    "\n",
    "def sentiment(n):\n",
    "    return 1 if n >= 8 else 0\n",
    "\n",
    "df_for_model['sentiment'] = df_for_model['rating'].apply(sentiment)\n",
    "df_for_model.head()"
   ]
  },
  {
   "cell_type": "code",
   "execution_count": 315,
   "id": "dense-wallace",
   "metadata": {},
   "outputs": [],
   "source": [
    "df_for_model['clean review'] = df_for_model['clean review'].astype(str)"
   ]
  },
  {
   "cell_type": "code",
   "execution_count": 316,
   "id": "compound-screw",
   "metadata": {},
   "outputs": [
    {
     "data": {
      "text/plain": [
       "drugName                object\n",
       "condition               object\n",
       "rating                   int32\n",
       "usefulCount              int64\n",
       "clean review            object\n",
       "date            datetime64[ns]\n",
       "sentiment                int64\n",
       "dtype: object"
      ]
     },
     "execution_count": 316,
     "metadata": {},
     "output_type": "execute_result"
    }
   ],
   "source": [
    "df_for_model.dtypes"
   ]
  },
  {
   "cell_type": "code",
   "execution_count": 317,
   "id": "rubber-mustang",
   "metadata": {},
   "outputs": [
    {
     "data": {
      "text/html": [
       "<div>\n",
       "<style scoped>\n",
       "    .dataframe tbody tr th:only-of-type {\n",
       "        vertical-align: middle;\n",
       "    }\n",
       "\n",
       "    .dataframe tbody tr th {\n",
       "        vertical-align: top;\n",
       "    }\n",
       "\n",
       "    .dataframe thead th {\n",
       "        text-align: right;\n",
       "    }\n",
       "</style>\n",
       "<table border=\"1\" class=\"dataframe\">\n",
       "  <thead>\n",
       "    <tr style=\"text-align: right;\">\n",
       "      <th></th>\n",
       "      <th>clean review</th>\n",
       "      <th>sentiment</th>\n",
       "    </tr>\n",
       "  </thead>\n",
       "  <tbody>\n",
       "    <tr>\n",
       "      <th>0</th>\n",
       "      <td>['ive', 'tried', 'antidepressants', 'years', '...</td>\n",
       "      <td>1</td>\n",
       "    </tr>\n",
       "    <tr>\n",
       "      <th>1</th>\n",
       "      <td>['birth', 'control', 'one', 'cycle', 'reading'...</td>\n",
       "      <td>1</td>\n",
       "    </tr>\n",
       "    <tr>\n",
       "      <th>2</th>\n",
       "      <td>['ive', 'copper', 'coil', '3', 'months', 'real...</td>\n",
       "      <td>0</td>\n",
       "    </tr>\n",
       "    <tr>\n",
       "      <th>3</th>\n",
       "      <td>['pill', 'almost', 'two', 'years', 'work', 'fa...</td>\n",
       "      <td>0</td>\n",
       "    </tr>\n",
       "    <tr>\n",
       "      <th>4</th>\n",
       "      <td>['ginanvi', '3', 'months', 'switched', 'pill',...</td>\n",
       "      <td>0</td>\n",
       "    </tr>\n",
       "  </tbody>\n",
       "</table>\n",
       "</div>"
      ],
      "text/plain": [
       "                                        clean review  sentiment\n",
       "0  ['ive', 'tried', 'antidepressants', 'years', '...          1\n",
       "1  ['birth', 'control', 'one', 'cycle', 'reading'...          1\n",
       "2  ['ive', 'copper', 'coil', '3', 'months', 'real...          0\n",
       "3  ['pill', 'almost', 'two', 'years', 'work', 'fa...          0\n",
       "4  ['ginanvi', '3', 'months', 'switched', 'pill',...          0"
      ]
     },
     "execution_count": 317,
     "metadata": {},
     "output_type": "execute_result"
    }
   ],
   "source": [
    "df_new = df_for_model[['clean review', 'sentiment']]\n",
    "df_new.head()"
   ]
  },
  {
   "cell_type": "code",
   "execution_count": 318,
   "id": "nasty-association",
   "metadata": {},
   "outputs": [],
   "source": [
    "# Explore condition through grouping by count\n",
    "\n",
    "by_sentiment = pd.DataFrame(df_new.groupby(['sentiment']).count()).reset_index()"
   ]
  },
  {
   "cell_type": "code",
   "execution_count": 319,
   "id": "played-client",
   "metadata": {},
   "outputs": [
    {
     "data": {
      "text/html": [
       "<div>\n",
       "<style scoped>\n",
       "    .dataframe tbody tr th:only-of-type {\n",
       "        vertical-align: middle;\n",
       "    }\n",
       "\n",
       "    .dataframe tbody tr th {\n",
       "        vertical-align: top;\n",
       "    }\n",
       "\n",
       "    .dataframe thead th {\n",
       "        text-align: right;\n",
       "    }\n",
       "</style>\n",
       "<table border=\"1\" class=\"dataframe\">\n",
       "  <thead>\n",
       "    <tr style=\"text-align: right;\">\n",
       "      <th></th>\n",
       "      <th>sentiment</th>\n",
       "      <th>clean review</th>\n",
       "    </tr>\n",
       "  </thead>\n",
       "  <tbody>\n",
       "    <tr>\n",
       "      <th>0</th>\n",
       "      <td>0</td>\n",
       "      <td>34882</td>\n",
       "    </tr>\n",
       "    <tr>\n",
       "      <th>1</th>\n",
       "      <td>1</td>\n",
       "      <td>44814</td>\n",
       "    </tr>\n",
       "  </tbody>\n",
       "</table>\n",
       "</div>"
      ],
      "text/plain": [
       "   sentiment  clean review\n",
       "0          0         34882\n",
       "1          1         44814"
      ]
     },
     "execution_count": 319,
     "metadata": {},
     "output_type": "execute_result"
    }
   ],
   "source": [
    "by_sentiment.head()"
   ]
  },
  {
   "cell_type": "code",
   "execution_count": 320,
   "id": "suspended-honolulu",
   "metadata": {},
   "outputs": [],
   "source": [
    "by_sentiment['sentiment'] = by_sentiment['sentiment'].replace(to_replace=[0, 1], value=['Negative', 'Positive'])"
   ]
  },
  {
   "cell_type": "code",
   "execution_count": 321,
   "id": "handy-shooting",
   "metadata": {},
   "outputs": [
    {
     "data": {
      "image/png": "[encoded data removed]",
      "text/plain": [
       "<Figure size 432x288 with 1 Axes>"
      ]
     },
     "metadata": {},
     "output_type": "display_data"
    }
   ],
   "source": [
    "fig1, ax1 = plt.subplots()\n",
    "plt.title('Sentiment')\n",
    "ax1.pie(by_sentiment['clean review'], labels=by_sentiment['sentiment'], autopct='%1.1f%%')\n",
    "ax1.axis('equal')  \n",
    "plt.show()"
   ]
  },
  {
   "cell_type": "code",
   "execution_count": 322,
   "id": "plastic-advocacy",
   "metadata": {},
   "outputs": [],
   "source": [
    "# Function using CountVectorizer to preprocess, tokenize and \n",
    "# printing the top words used and returning sparse matrix as x\n",
    "# and the y values which are 1 or 0 (our target variable of positive or negative)\n",
    "\n",
    "def count_vector(dataset_y, dataset_x):\n",
    "    y = dataset_y.values\n",
    "    count_vectorizer = CountVectorizer(max_features = 100)\n",
    "    sparse_matrix = count_vectorizer.fit_transform(dataset_x).toarray()\n",
    "    X = sparse_matrix\n",
    "    print('The top 100 words used: {}'.format(count_vectorizer.get_feature_names()))\n",
    "    return X, y"
   ]
  },
  {
   "cell_type": "code",
   "execution_count": 323,
   "id": "promotional-applicant",
   "metadata": {},
   "outputs": [
    {
     "name": "stdout",
     "output_type": "stream",
     "text": [
      "The top 100 words used: ['10', 'acne', 'ago', 'almost', 'also', 'anxiety', 'away', 'back', 'bad', 'better', 'birth', 'bleeding', 'control', 'could', 'cramps', 'day', 'days', 'depression', 'didnt', 'doctor', 'dont', 'drive', 'effects', 'even', 'ever', 'every', 'experience', 'face', 'far', 'feel', 'felt', 'first', 'gain', 'gained', 'get', 'getting', 'go', 'going', 'good', 'got', 'great', 'havent', 'im', 'ive', 'last', 'life', 'like', 'little', 'lot', 'love', 'made', 'medication', 'medicine', 'mg', 'month', 'months', 'mood', 'much', 'never', 'night', 'normal', 'nothing', 'one', 'pain', 'period', 'periods', 'pill', 'prescribed', 'put', 'quot', 'really', 'recommend', 'severe', 'sex', 'side', 'since', 'skin', 'sleep', 'spotting', 'started', 'still', 'stopped', 'swings', 'take', 'taking', 'time', 'took', 'tried', 'two', 'used', 'week', 'weeks', 'weight', 'well', 'went', 'work', 'worked', 'would', 'year', 'years']\n"
     ]
    }
   ],
   "source": [
    "x, y = count_vector(df_new['sentiment'], df_new['clean review'])"
   ]
  },
  {
   "cell_type": "code",
   "execution_count": 324,
   "id": "imperial-generator",
   "metadata": {},
   "outputs": [
    {
     "data": {
      "text/plain": [
       "(79696, 1)"
      ]
     },
     "execution_count": 324,
     "metadata": {},
     "output_type": "execute_result"
    }
   ],
   "source": [
    "y = y.reshape(-1, 1)\n",
    "y.shape"
   ]
  },
  {
   "cell_type": "code",
   "execution_count": 325,
   "id": "generous-netscape",
   "metadata": {},
   "outputs": [
    {
     "data": {
      "text/plain": [
       "(79696, 100)"
      ]
     },
     "execution_count": 325,
     "metadata": {},
     "output_type": "execute_result"
    }
   ],
   "source": [
    "x.shape"
   ]
  },
  {
   "cell_type": "code",
   "execution_count": 333,
   "id": "boxed-engineer",
   "metadata": {},
   "outputs": [],
   "source": [
    "x_train, x_test, y_train, y_test = train_test_split(x, y, test_size = 0.4, random_state = 42)"
   ]
  },
  {
   "cell_type": "code",
   "execution_count": 334,
   "id": "standing-experience",
   "metadata": {},
   "outputs": [
    {
     "name": "stderr",
     "output_type": "stream",
     "text": [
      "C:\\Users\\17742\\AppData\\Roaming\\Python\\Python37\\site-packages\\sklearn\\utils\\validation.py:72: DataConversionWarning: A column-vector y was passed when a 1d array was expected. Please change the shape of y to (n_samples, ), for example using ravel().\n",
      "  return f(**kwargs)\n"
     ]
    },
    {
     "name": "stdout",
     "output_type": "stream",
     "text": [
      "Accuracy: 69.27444399134227\n"
     ]
    }
   ],
   "source": [
    "lr = LogisticRegression(max_iter = 2000)\n",
    "lr.fit(x_train, y_train)\n",
    "prediction = lr.predict(x_test)\n",
    "confusion_matrix(prediction, y_test)\n",
    "accuracy = 100.0 * (accuracy_score(y_test, prediction))\n",
    "print('Accuracy:', accuracy)"
   ]
  },
  {
   "cell_type": "code",
   "execution_count": 335,
   "id": "digital-spread",
   "metadata": {},
   "outputs": [
    {
     "name": "stdout",
     "output_type": "stream",
     "text": [
      "              precision    recall  f1-score   support\n",
      "\n",
      "           0       0.60      0.66      0.63     12601\n",
      "           1       0.76      0.71      0.74     19278\n",
      "\n",
      "    accuracy                           0.69     31879\n",
      "   macro avg       0.68      0.69      0.68     31879\n",
      "weighted avg       0.70      0.69      0.69     31879\n",
      "\n"
     ]
    }
   ],
   "source": [
    "print(classification_report(prediction, y_test))"
   ]
  },
  {
   "cell_type": "code",
   "execution_count": 336,
   "id": "convertible-session",
   "metadata": {},
   "outputs": [
    {
     "name": "stdout",
     "output_type": "stream",
     "text": [
      "Accuracy: 66.72417578970482\n"
     ]
    },
    {
     "name": "stderr",
     "output_type": "stream",
     "text": [
      "C:\\Users\\17742\\AppData\\Roaming\\Python\\Python37\\site-packages\\sklearn\\utils\\validation.py:72: DataConversionWarning: A column-vector y was passed when a 1d array was expected. Please change the shape of y to (n_samples, ), for example using ravel().\n",
      "  return f(**kwargs)\n"
     ]
    }
   ],
   "source": [
    "nb_multi = MultinomialNB()\n",
    "nb_multi.fit(x_train, y_train)\n",
    "prediction = nb_multi.predict(x_test)\n",
    "accuracy = 100.0 * (accuracy_score(y_test, prediction))\n",
    "print('Accuracy:', accuracy)"
   ]
  },
  {
   "cell_type": "code",
   "execution_count": 337,
   "id": "wrapped-agenda",
   "metadata": {},
   "outputs": [
    {
     "name": "stdout",
     "output_type": "stream",
     "text": [
      "              precision    recall  f1-score   support\n",
      "\n",
      "           0       0.58      0.63      0.60     12744\n",
      "           1       0.74      0.69      0.71     19135\n",
      "\n",
      "    accuracy                           0.67     31879\n",
      "   macro avg       0.66      0.66      0.66     31879\n",
      "weighted avg       0.67      0.67      0.67     31879\n",
      "\n"
     ]
    }
   ],
   "source": [
    "print(classification_report(prediction, y_test))"
   ]
  },
  {
   "cell_type": "code",
   "execution_count": 338,
   "id": "overall-timothy",
   "metadata": {},
   "outputs": [
    {
     "name": "stdout",
     "output_type": "stream",
     "text": [
      "Accuracy: 66.40107908027228\n"
     ]
    },
    {
     "name": "stderr",
     "output_type": "stream",
     "text": [
      "C:\\Users\\17742\\AppData\\Roaming\\Python\\Python37\\site-packages\\sklearn\\utils\\validation.py:72: DataConversionWarning: A column-vector y was passed when a 1d array was expected. Please change the shape of y to (n_samples, ), for example using ravel().\n",
      "  return f(**kwargs)\n"
     ]
    }
   ],
   "source": [
    "nb_bern = BernoulliNB()\n",
    "nb_bern.fit(x_train, y_train)\n",
    "prediction = nb_bern.predict(x_test)\n",
    "accuracy = 100.0 * (accuracy_score(y_test, prediction))\n",
    "print('Accuracy:', accuracy)"
   ]
  },
  {
   "cell_type": "code",
   "execution_count": 339,
   "id": "convinced-healing",
   "metadata": {},
   "outputs": [
    {
     "name": "stdout",
     "output_type": "stream",
     "text": [
      "              precision    recall  f1-score   support\n",
      "\n",
      "           0       0.56      0.63      0.59     12313\n",
      "           1       0.75      0.69      0.71     19566\n",
      "\n",
      "    accuracy                           0.66     31879\n",
      "   macro avg       0.65      0.66      0.65     31879\n",
      "weighted avg       0.67      0.66      0.67     31879\n",
      "\n"
     ]
    }
   ],
   "source": [
    "print(classification_report(prediction, y_test))"
   ]
  },
  {
   "cell_type": "code",
   "execution_count": null,
   "id": "united-satin",
   "metadata": {},
   "outputs": [],
   "source": []
  }
 ],
 "metadata": {
  "kernelspec": {
   "display_name": "Python 3",
   "language": "python",
   "name": "python3"
  },
  "language_info": {
   "codemirror_mode": {
    "name": "ipython",
    "version": 3
   },
   "file_extension": ".py",
   "mimetype": "text/x-python",
   "name": "python",
   "nbconvert_exporter": "python",
   "pygments_lexer": "ipython3",
   "version": "3.7.7"
  }
 },
 "nbformat": 4,
 "nbformat_minor": 5
}
